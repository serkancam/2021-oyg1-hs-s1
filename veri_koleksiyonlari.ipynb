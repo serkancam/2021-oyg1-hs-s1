{
 "cells": [
  {
   "cell_type": "code",
   "execution_count": 14,
   "metadata": {},
   "outputs": [
    {
     "data": {
      "text/plain": [
       "8"
      ]
     },
     "execution_count": 14,
     "metadata": {},
     "output_type": "execute_result"
    }
   ],
   "source": [
    "a=5\n",
    "b=8\n",
    "c=5\n",
    "d=22\n",
    "b"
   ]
  },
  {
   "cell_type": "code",
   "execution_count": 5,
   "metadata": {},
   "outputs": [
    {
     "name": "stdout",
     "output_type": "stream",
     "text": [
      "5\n",
      "8\n"
     ]
    }
   ],
   "source": [
    "print(a)\n",
    "print(b)"
   ]
  },
  {
   "cell_type": "code",
   "execution_count": 11,
   "metadata": {},
   "outputs": [
    {
     "name": "stdout",
     "output_type": "stream",
     "text": [
      "5\n",
      "22\n"
     ]
    }
   ],
   "source": [
    "print(c)\n",
    "print(d)"
   ]
  },
  {
   "cell_type": "markdown",
   "metadata": {},
   "source": [
    "##### python veri yapıları\n",
    "* liste  []\n",
    "* demet  ()\n",
    "* sözlük {key:value}\n",
    "* küme {}\n",
    "\n"
   ]
  },
  {
   "cell_type": "markdown",
   "metadata": {},
   "source": [
    "liste\n",
    "* her elemanın bir indis sırası vardır.\n",
    "* yeni eleman eklenebilir.\n",
    "* eleman silinebilir.\n",
    "* liste içeriği değiştirilebilir."
   ]
  },
  {
   "cell_type": "code",
   "execution_count": 24,
   "metadata": {},
   "outputs": [
    {
     "name": "stdout",
     "output_type": "stream",
     "text": [
      "[1, 2, 3, 4, 5, 6, 4]\n",
      "[1, 20, 3, 4, 5, 6, 4]\n",
      "2\n",
      "1\n",
      "[1, 20, 3, 4, 5, 6, 4, 38]\n",
      "[1, 20, 72, 3, 4, 5, 6, 4, 38]\n",
      "38\n",
      "[1, 20, 72, 3, 4, 5, 6, 4]\n",
      "3\n",
      "[1, 20, 72, 4, 5, 6, 4]\n"
     ]
    }
   ],
   "source": [
    "l1=[1,2,3,4,5,6,4]\n",
    "print(l1)\n",
    "l1[1]=20# 1. indis değeri değilştirildi\n",
    "print(l1)\n",
    "print(l1.count(4))# count verilen değerden kaç tane var sayar\n",
    "print(l1.index(20))# index var olan bir dğerin indis numarasını verir\n",
    "l1.append(38)# listenin sonuna eleman ekler.\n",
    "print(l1)\n",
    "l1.insert(2,72)# ilk paramatere eklenecek indis ikinci parametre ekelencek değer\n",
    "print(l1)\n",
    "e1=l1.pop()# eğer paramnetre verilmez ise listenin son elemenını alır ve siler.\n",
    "print(e1)\n",
    "print(l1)\n",
    "e2=l1.pop(3)# eğer parametre yazarsak verilen indisteki elemanı alır ve siler\n",
    "print(e2)\n",
    "print(l1)\n"
   ]
  },
  {
   "cell_type": "markdown",
   "metadata": {},
   "source": [
    "Demet tuple\n",
    "* demetler ilk elemanlarını korurlar\n",
    "* elemanları değiştirilemez\n",
    "* yeni eleman eklenemez"
   ]
  },
  {
   "cell_type": "code",
   "execution_count": 27,
   "metadata": {},
   "outputs": [
    {
     "name": "stdout",
     "output_type": "stream",
     "text": [
      "250\n"
     ]
    }
   ],
   "source": [
    "renk =(25,250,38)\n",
    "print(renk[1])\n",
    "# renk[1]=38 # bu işlem yasak\n"
   ]
  },
  {
   "cell_type": "markdown",
   "metadata": {},
   "source": [
    "Sözlük Dictionary\n",
    "* anahtar değer (key:value) çiftleri vardır.\n",
    "* değerler indis numaraları yerine anahtar değerlerde tutulur."
   ]
  },
  {
   "cell_type": "code",
   "execution_count": 35,
   "metadata": {},
   "outputs": [
    {
     "name": "stdout",
     "output_type": "stream",
     "text": [
      "27\n",
      "{'a': 27, 'b': 38, 'c': 59, 'd': 102}\n",
      "{'a': 125, 'b': 38, 'c': 59, 'd': 102}\n",
      "{1: 2, 2: 25, 3: 68}\n",
      "38\n"
     ]
    }
   ],
   "source": [
    "sz1={\"a\":27,\"b\":38,\"c\":59}\n",
    "print(sz1[\"a\"])\n",
    "sz1[\"d\"]=102\n",
    "print(sz1)\n",
    "sz1[\"a\"]=125\n",
    "print(sz1)\n",
    "# sz2={1:2,2:25,3:68}\n",
    "# print(sz2)\n",
    "print(sz1[\"b\"])"
   ]
  },
  {
   "cell_type": "code",
   "execution_count": 36,
   "metadata": {},
   "outputs": [
    {
     "name": "stdout",
     "output_type": "stream",
     "text": [
      "{'ad': ['batuhan', 'balkan', 'beylem meriç'], 'soyad': ['alaylı', 'mesut', 'yücel']}\n"
     ]
    }
   ],
   "source": [
    "ad=[\"batuhan\",\"balkan\",\"beylem meriç\"]\n",
    "soyad=[\"alaylı\",\"mesut\",\"yücel\"]\n",
    "kisiler={\"ad\":ad,\"soyad\":soyad}\n",
    "print(kisiler)"
   ]
  },
  {
   "cell_type": "code",
   "execution_count": 38,
   "metadata": {},
   "outputs": [
    {
     "name": "stdout",
     "output_type": "stream",
     "text": [
      "{8, 9, 2, 3}\n"
     ]
    }
   ],
   "source": [
    "a={2,3,8,9,9,9,3,2,8}\n",
    "print(a)\n"
   ]
  }
 ],
 "metadata": {
  "interpreter": {
   "hash": "916dbcbb3f70747c44a77c7bcd40155683ae19c65e1c03b4aa3499c5328201f1"
  },
  "kernelspec": {
   "display_name": "Python 3.9.2 64-bit",
   "language": "python",
   "name": "python3"
  },
  "language_info": {
   "codemirror_mode": {
    "name": "ipython",
    "version": 3
   },
   "file_extension": ".py",
   "mimetype": "text/x-python",
   "name": "python",
   "nbconvert_exporter": "python",
   "pygments_lexer": "ipython3",
   "version": "3.9.2"
  },
  "orig_nbformat": 4
 },
 "nbformat": 4,
 "nbformat_minor": 2
}
