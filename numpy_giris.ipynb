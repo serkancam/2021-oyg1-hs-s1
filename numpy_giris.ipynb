{
 "cells": [
  {
   "cell_type": "code",
   "execution_count": 2,
   "metadata": {},
   "outputs": [],
   "source": [
    "import numpy as np\n",
    "from random import randint"
   ]
  },
  {
   "cell_type": "markdown",
   "metadata": {},
   "source": [
    "numpy vs list\n",
    "* 10 milyon adet 1-10_000 arası rastgele sayılardan seçilmiş bir dizinin değerlerinin toplamını bulan kod yazılacak\n",
    "* Bu işlem ilk önce python listleri ile yapıalcak.\n",
    "* Daha sonra numpy ndarray yapısı ile aynı işlem yapıklacak.\n",
    "* Süreler gözlmlenecek.\n"
   ]
  },
  {
   "cell_type": "code",
   "execution_count": 9,
   "metadata": {},
   "outputs": [
    {
     "name": "stdout",
     "output_type": "stream",
     "text": [
      "10000000\n",
      "49999767130\n"
     ]
    }
   ],
   "source": [
    "l1=[]\n",
    "for _ in range(10_000_000):\n",
    "    l1.append(randint(1,10_000))\n",
    "print(len(l1))\n",
    "toplam=0\n",
    "for sayi in l1:\n",
    "    toplam=toplam+sayi\n",
    "print(toplam)"
   ]
  },
  {
   "cell_type": "code",
   "execution_count": 10,
   "metadata": {},
   "outputs": [
    {
     "name": "stdout",
     "output_type": "stream",
     "text": [
      "10000000\n",
      "50000998398\n"
     ]
    }
   ],
   "source": [
    "l2=np.random.randint(1,10_000,size=10_000_000)\n",
    "print(len(l2))\n",
    "toplam=l2.sum()\n",
    "print(toplam)"
   ]
  },
  {
   "cell_type": "code",
   "execution_count": 13,
   "metadata": {},
   "outputs": [
    {
     "name": "stdout",
     "output_type": "stream",
     "text": [
      "size: 6\n",
      "shape: (6,)\n",
      "dimension: 1\n"
     ]
    }
   ],
   "source": [
    "dizi = np.array([2,36,783,98,54,78])\n",
    "print(\"size:\",dizi.size)# elemans sayısını\n",
    "print(\"shape:\",dizi.shape)# şeklini\n",
    "print(\"dimension:\",dizi.ndim)# boyut sayısını"
   ]
  },
  {
   "cell_type": "code",
   "execution_count": 26,
   "metadata": {},
   "outputs": [
    {
     "name": "stdout",
     "output_type": "stream",
     "text": [
      "shape: (2, 3)\n",
      "size: 6\n",
      "ndim: 2\n",
      "l2 en küçük: -5\n",
      "d2 en büyük: 6\n",
      "d2 ortalama: 2.0\n",
      "[[  3   6   9]\n",
      " [-15  15  18]]\n"
     ]
    }
   ],
   "source": [
    "d2=np.array([[1,2,3],[-5,5,6]])\n",
    "print(\"shape:\",d2.shape)\n",
    "print(\"size:\",d2.size)\n",
    "print(\"ndim:\",d2.ndim)\n",
    "print(\"l2 en küçük:\",d2.min())\n",
    "print(\"d2 en büyük:\",d2.max())\n",
    "print(\"d2 ortalama:\",d2.mean())\n",
    "print(d2*3)"
   ]
  }
 ],
 "metadata": {
  "interpreter": {
   "hash": "916dbcbb3f70747c44a77c7bcd40155683ae19c65e1c03b4aa3499c5328201f1"
  },
  "kernelspec": {
   "display_name": "Python 3.9.2 64-bit",
   "language": "python",
   "name": "python3"
  },
  "language_info": {
   "codemirror_mode": {
    "name": "ipython",
    "version": 3
   },
   "file_extension": ".py",
   "mimetype": "text/x-python",
   "name": "python",
   "nbconvert_exporter": "python",
   "pygments_lexer": "ipython3",
   "version": "3.9.2"
  },
  "orig_nbformat": 4
 },
 "nbformat": 4,
 "nbformat_minor": 2
}
